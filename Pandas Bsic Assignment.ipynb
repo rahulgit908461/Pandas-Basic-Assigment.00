{
 "cells": [
  {
   "cell_type": "code",
   "execution_count": 4,
   "id": "2683cdef-8bf0-4e5c-b782-f651bc682ce2",
   "metadata": {},
   "outputs": [],
   "source": [
    "import pandas as pd"
   ]
  },
  {
   "cell_type": "code",
   "execution_count": 3,
   "id": "95e415c5-8525-4782-a8d1-0f3b76e3b952",
   "metadata": {},
   "outputs": [
    {
     "name": "stdout",
     "output_type": "stream",
     "text": [
      "Requirement already satisfied: pandas in /opt/conda/lib/python3.10/site-packages (1.5.2)\n",
      "Requirement already satisfied: python-dateutil>=2.8.1 in /opt/conda/lib/python3.10/site-packages (from pandas) (2.8.2)\n",
      "Requirement already satisfied: pytz>=2020.1 in /opt/conda/lib/python3.10/site-packages (from pandas) (2022.6)\n",
      "Requirement already satisfied: numpy>=1.21.0 in /opt/conda/lib/python3.10/site-packages (from pandas) (1.23.5)\n",
      "Requirement already satisfied: six>=1.5 in /opt/conda/lib/python3.10/site-packages (from python-dateutil>=2.8.1->pandas) (1.16.0)\n",
      "Note: you may need to restart the kernel to use updated packages.\n"
     ]
    }
   ],
   "source": [
    "pip install pandas"
   ]
  },
  {
   "cell_type": "code",
   "execution_count": 19,
   "id": "78b967d8-c179-4051-8590-8389f2057a70",
   "metadata": {},
   "outputs": [],
   "source": [
    "#assignment \n",
    "# Q1. Data is 4,8,15,16,23, and 42 then print the series"
   ]
  },
  {
   "cell_type": "code",
   "execution_count": 5,
   "id": "28f773e6-40ef-4db9-a6be-3ab5ed2fcb71",
   "metadata": {},
   "outputs": [],
   "source": [
    "data= [4,8,15,16,23,42]"
   ]
  },
  {
   "cell_type": "code",
   "execution_count": 6,
   "id": "00ea3c72-1893-477b-8120-9f51bd90d214",
   "metadata": {},
   "outputs": [
    {
     "data": {
      "text/plain": [
       "[4, 8, 15, 16, 23, 42]"
      ]
     },
     "execution_count": 6,
     "metadata": {},
     "output_type": "execute_result"
    }
   ],
   "source": [
    "data"
   ]
  },
  {
   "cell_type": "code",
   "execution_count": 7,
   "id": "379c2645-76e4-4014-a5a7-97ba9a9e9ab0",
   "metadata": {},
   "outputs": [
    {
     "data": {
      "text/plain": [
       "0     4\n",
       "1     8\n",
       "2    15\n",
       "3    16\n",
       "4    23\n",
       "5    42\n",
       "dtype: int64"
      ]
     },
     "execution_count": 7,
     "metadata": {},
     "output_type": "execute_result"
    }
   ],
   "source": [
    "pd.Series(data)"
   ]
  },
  {
   "cell_type": "code",
   "execution_count": 8,
   "id": "8eb68eb4-f1f2-4ef3-a238-5b6db1e57001",
   "metadata": {},
   "outputs": [],
   "source": [
    "#Q2 10 elements in it and apply pandas series on it "
   ]
  },
  {
   "cell_type": "code",
   "execution_count": 12,
   "id": "bfb33d63-219a-4212-a56c-f2f91ced318e",
   "metadata": {},
   "outputs": [],
   "source": [
    "Element =['a1','a2','a3','a4','a5','a6','a7','a8','a9','a10']"
   ]
  },
  {
   "cell_type": "code",
   "execution_count": 13,
   "id": "3fdbbf89-0714-497b-bcff-6f470212962e",
   "metadata": {},
   "outputs": [
    {
     "data": {
      "text/plain": [
       "['a1', 'a2', 'a3', 'a4', 'a5', 'a6', 'a7', 'a8', 'a9', 'a10']"
      ]
     },
     "execution_count": 13,
     "metadata": {},
     "output_type": "execute_result"
    }
   ],
   "source": [
    "Element"
   ]
  },
  {
   "cell_type": "code",
   "execution_count": 14,
   "id": "4545e4a1-b0f6-4589-bb2f-6d21c18083ba",
   "metadata": {},
   "outputs": [
    {
     "data": {
      "text/plain": [
       "list"
      ]
     },
     "execution_count": 14,
     "metadata": {},
     "output_type": "execute_result"
    }
   ],
   "source": [
    "type(Element)"
   ]
  },
  {
   "cell_type": "code",
   "execution_count": 15,
   "id": "76b8a547-7e26-4028-900f-692fb0017b95",
   "metadata": {},
   "outputs": [
    {
     "data": {
      "text/plain": [
       "0     a1\n",
       "1     a2\n",
       "2     a3\n",
       "3     a4\n",
       "4     a5\n",
       "5     a6\n",
       "6     a7\n",
       "7     a8\n",
       "8     a9\n",
       "9    a10\n",
       "dtype: object"
      ]
     },
     "execution_count": 15,
     "metadata": {},
     "output_type": "execute_result"
    }
   ],
   "source": [
    "pd.Series(Element)"
   ]
  },
  {
   "cell_type": "code",
   "execution_count": 7,
   "id": "abd2c597-2100-488a-b8b9-21a174e30e73",
   "metadata": {},
   "outputs": [],
   "source": [
    "#Q3 Which Fallowing Data Create Pandas DataFrame"
   ]
  },
  {
   "cell_type": "code",
   "execution_count": 5,
   "id": "6b92368d-f8de-40ea-beb4-de357b882cb6",
   "metadata": {},
   "outputs": [
    {
     "data": {
      "text/html": [
       "<div>\n",
       "<style scoped>\n",
       "    .dataframe tbody tr th:only-of-type {\n",
       "        vertical-align: middle;\n",
       "    }\n",
       "\n",
       "    .dataframe tbody tr th {\n",
       "        vertical-align: top;\n",
       "    }\n",
       "\n",
       "    .dataframe thead th {\n",
       "        text-align: right;\n",
       "    }\n",
       "</style>\n",
       "<table border=\"1\" class=\"dataframe\">\n",
       "  <thead>\n",
       "    <tr style=\"text-align: right;\">\n",
       "      <th></th>\n",
       "      <th>Name</th>\n",
       "      <th>Age</th>\n",
       "      <th>Gender</th>\n",
       "    </tr>\n",
       "  </thead>\n",
       "  <tbody>\n",
       "    <tr>\n",
       "      <th>0</th>\n",
       "      <td>Alice</td>\n",
       "      <td>25</td>\n",
       "      <td>Female</td>\n",
       "    </tr>\n",
       "    <tr>\n",
       "      <th>1</th>\n",
       "      <td>Bob</td>\n",
       "      <td>30</td>\n",
       "      <td>Male</td>\n",
       "    </tr>\n",
       "    <tr>\n",
       "      <th>2</th>\n",
       "      <td>Claire</td>\n",
       "      <td>27</td>\n",
       "      <td>Female</td>\n",
       "    </tr>\n",
       "  </tbody>\n",
       "</table>\n",
       "</div>"
      ],
      "text/plain": [
       "     Name  Age  Gender\n",
       "0   Alice   25  Female\n",
       "1     Bob   30    Male\n",
       "2  Claire   27  Female"
      ]
     },
     "execution_count": 5,
     "metadata": {},
     "output_type": "execute_result"
    }
   ],
   "source": [
    "import pandas as pd\n",
    "pd.read_excel(\"Data List.xlsx\")"
   ]
  },
  {
   "cell_type": "code",
   "execution_count": 17,
   "id": "13f4fef1-c5c8-426d-8529-5ca9c75864fc",
   "metadata": {},
   "outputs": [
    {
     "name": "stdout",
     "output_type": "stream",
     "text": [
      "Collecting lxml\n",
      "  Downloading lxml-4.9.2-cp310-cp310-manylinux_2_17_x86_64.manylinux2014_x86_64.manylinux_2_24_x86_64.whl (7.1 MB)\n",
      "\u001b[2K     \u001b[90m━━━━━━━━━━━━━━━━━━━━━━━━━━━━━━━━━━━━━━━━\u001b[0m \u001b[32m7.1/7.1 MB\u001b[0m \u001b[31m58.4 MB/s\u001b[0m eta \u001b[36m0:00:00\u001b[0m00:01\u001b[0m00:01\u001b[0m\n",
      "\u001b[?25hInstalling collected packages: lxml\n",
      "Successfully installed lxml-4.9.2\n",
      "Note: you may need to restart the kernel to use updated packages.\n"
     ]
    }
   ],
   "source": [
    "pip install lxml"
   ]
  },
  {
   "cell_type": "code",
   "execution_count": 8,
   "id": "01875750-78b1-4d1a-93fd-784e9670d340",
   "metadata": {},
   "outputs": [],
   "source": [
    "#Q.4 What is 'DataFrame' in pandas and how is it diffrent from pandas.series give an eample."
   ]
  },
  {
   "cell_type": "code",
   "execution_count": 9,
   "id": "2126eda9-4549-41a6-bebb-0ad6c36846c6",
   "metadata": {},
   "outputs": [],
   "source": [
    " # A Data frame is two-dimensional data structure, i.e., data is aligned in a tabular fashion \n",
    " # in rows and columns. Series can only contain single list index, whereas dataframe can be \n",
    "# made of more than one series."
   ]
  },
  {
   "cell_type": "code",
   "execution_count": 10,
   "id": "61c11fdd-05bc-4cd5-aba0-7887752b03a3",
   "metadata": {},
   "outputs": [],
   "source": [
    "#Exmaple of pandas.series and DataFrame"
   ]
  },
  {
   "cell_type": "code",
   "execution_count": 14,
   "id": "a7d0e3b0-c9b9-459e-a7c7-e8cc5723c080",
   "metadata": {},
   "outputs": [],
   "source": [
    "l1=['a2','a3','a4']"
   ]
  },
  {
   "cell_type": "code",
   "execution_count": 15,
   "id": "6fe4e62c-a094-4f22-9179-e9c514024a7e",
   "metadata": {},
   "outputs": [
    {
     "data": {
      "text/plain": [
       "['a2', 'a3', 'a4']"
      ]
     },
     "execution_count": 15,
     "metadata": {},
     "output_type": "execute_result"
    }
   ],
   "source": [
    "l1"
   ]
  },
  {
   "cell_type": "code",
   "execution_count": 16,
   "id": "fc7faa2e-7a58-4f97-8b3a-5be4d73072b8",
   "metadata": {},
   "outputs": [
    {
     "data": {
      "text/plain": [
       "0    a2\n",
       "1    a3\n",
       "2    a4\n",
       "dtype: object"
      ]
     },
     "execution_count": 16,
     "metadata": {},
     "output_type": "execute_result"
    }
   ],
   "source": [
    "pd.Series(l1)"
   ]
  },
  {
   "cell_type": "code",
   "execution_count": 32,
   "id": "5dbe58a2-2d3c-4bac-9d23-8e96c6d54fdf",
   "metadata": {},
   "outputs": [],
   "source": [
    "#Example of Data Frame"
   ]
  },
  {
   "cell_type": "code",
   "execution_count": 33,
   "id": "ec90d186-891b-4f42-a8ba-3281b82ec340",
   "metadata": {},
   "outputs": [],
   "source": [
    "# passing a list of DIC create a datafram"
   ]
  },
  {
   "cell_type": "code",
   "execution_count": 39,
   "id": "c3b21d72-669c-47f1-9cf4-2e37a7f5c84f",
   "metadata": {},
   "outputs": [],
   "source": [
    "data=[{'a':1,'b':2},{'a':5,'b':10 ,'c':20},{'a':3, 'b':9,'c':10,'d':23}]"
   ]
  },
  {
   "cell_type": "code",
   "execution_count": 40,
   "id": "b06d36fb-37c9-446f-aafe-467db1ac9b64",
   "metadata": {},
   "outputs": [],
   "source": [
    "df=pd.DataFrame(data)"
   ]
  },
  {
   "cell_type": "code",
   "execution_count": 41,
   "id": "61c7d644-1467-4488-95ad-c8c88865e318",
   "metadata": {},
   "outputs": [
    {
     "data": {
      "text/html": [
       "<div>\n",
       "<style scoped>\n",
       "    .dataframe tbody tr th:only-of-type {\n",
       "        vertical-align: middle;\n",
       "    }\n",
       "\n",
       "    .dataframe tbody tr th {\n",
       "        vertical-align: top;\n",
       "    }\n",
       "\n",
       "    .dataframe thead th {\n",
       "        text-align: right;\n",
       "    }\n",
       "</style>\n",
       "<table border=\"1\" class=\"dataframe\">\n",
       "  <thead>\n",
       "    <tr style=\"text-align: right;\">\n",
       "      <th></th>\n",
       "      <th>a</th>\n",
       "      <th>b</th>\n",
       "      <th>c</th>\n",
       "      <th>d</th>\n",
       "    </tr>\n",
       "  </thead>\n",
       "  <tbody>\n",
       "    <tr>\n",
       "      <th>0</th>\n",
       "      <td>1</td>\n",
       "      <td>2</td>\n",
       "      <td>NaN</td>\n",
       "      <td>NaN</td>\n",
       "    </tr>\n",
       "    <tr>\n",
       "      <th>1</th>\n",
       "      <td>5</td>\n",
       "      <td>10</td>\n",
       "      <td>20.0</td>\n",
       "      <td>NaN</td>\n",
       "    </tr>\n",
       "    <tr>\n",
       "      <th>2</th>\n",
       "      <td>3</td>\n",
       "      <td>9</td>\n",
       "      <td>10.0</td>\n",
       "      <td>23.0</td>\n",
       "    </tr>\n",
       "  </tbody>\n",
       "</table>\n",
       "</div>"
      ],
      "text/plain": [
       "   a   b     c     d\n",
       "0  1   2   NaN   NaN\n",
       "1  5  10  20.0   NaN\n",
       "2  3   9  10.0  23.0"
      ]
     },
     "execution_count": 41,
     "metadata": {},
     "output_type": "execute_result"
    }
   ],
   "source": [
    "df"
   ]
  },
  {
   "cell_type": "code",
   "execution_count": 37,
   "id": "7965e5ee-b93d-495f-ba80-c79df9405be6",
   "metadata": {},
   "outputs": [],
   "source": [
    "#Q.5 common fun use to manipulation data in Pandas DataFrmae? Give any one Ex to use "
   ]
  },
  {
   "cell_type": "code",
   "execution_count": 42,
   "id": "b26e15d5-dd85-4840-b7df-99edf0692ec0",
   "metadata": {},
   "outputs": [],
   "source": [
    "#a. Dropping columns in the data.\n",
    "#b.Dropping rows in the data.\n",
    "#c.Renaming a column in the dataset.\n",
    "#d.Select columns with specific data types.\n",
    "#e. Slicing the dataset."
   ]
  },
  {
   "cell_type": "code",
   "execution_count": 47,
   "id": "1fb0f24b-f7cd-472a-8ce2-683f8f758856",
   "metadata": {},
   "outputs": [],
   "source": [
    "data=[{'a':1,'b':2},{'a':5,'b':10 ,'c':20},{'a':3, 'b':9,'c':10,'d':23}]"
   ]
  },
  {
   "cell_type": "code",
   "execution_count": 48,
   "id": "3e3882f4-6ddf-4789-b86e-3ffd9389ca6a",
   "metadata": {},
   "outputs": [],
   "source": [
    "df=pd.DataFrame(data)"
   ]
  },
  {
   "cell_type": "code",
   "execution_count": 49,
   "id": "88e7a505-a7b3-472c-a271-b594085c7a49",
   "metadata": {},
   "outputs": [
    {
     "data": {
      "text/html": [
       "<div>\n",
       "<style scoped>\n",
       "    .dataframe tbody tr th:only-of-type {\n",
       "        vertical-align: middle;\n",
       "    }\n",
       "\n",
       "    .dataframe tbody tr th {\n",
       "        vertical-align: top;\n",
       "    }\n",
       "\n",
       "    .dataframe thead th {\n",
       "        text-align: right;\n",
       "    }\n",
       "</style>\n",
       "<table border=\"1\" class=\"dataframe\">\n",
       "  <thead>\n",
       "    <tr style=\"text-align: right;\">\n",
       "      <th></th>\n",
       "      <th>a</th>\n",
       "      <th>b</th>\n",
       "      <th>c</th>\n",
       "      <th>d</th>\n",
       "    </tr>\n",
       "  </thead>\n",
       "  <tbody>\n",
       "    <tr>\n",
       "      <th>0</th>\n",
       "      <td>1</td>\n",
       "      <td>2</td>\n",
       "      <td>NaN</td>\n",
       "      <td>NaN</td>\n",
       "    </tr>\n",
       "    <tr>\n",
       "      <th>1</th>\n",
       "      <td>5</td>\n",
       "      <td>10</td>\n",
       "      <td>20.0</td>\n",
       "      <td>NaN</td>\n",
       "    </tr>\n",
       "    <tr>\n",
       "      <th>2</th>\n",
       "      <td>3</td>\n",
       "      <td>9</td>\n",
       "      <td>10.0</td>\n",
       "      <td>23.0</td>\n",
       "    </tr>\n",
       "  </tbody>\n",
       "</table>\n",
       "</div>"
      ],
      "text/plain": [
       "   a   b     c     d\n",
       "0  1   2   NaN   NaN\n",
       "1  5  10  20.0   NaN\n",
       "2  3   9  10.0  23.0"
      ]
     },
     "execution_count": 49,
     "metadata": {},
     "output_type": "execute_result"
    }
   ],
   "source": [
    "df"
   ]
  },
  {
   "cell_type": "code",
   "execution_count": 50,
   "id": "dcc8a12c-e859-4991-88dc-86e19b4a64b4",
   "metadata": {},
   "outputs": [],
   "source": [
    "# remove cloumn b and c"
   ]
  },
  {
   "cell_type": "code",
   "execution_count": 52,
   "id": "bf8aad09-f2e8-4995-b579-ec183f65aada",
   "metadata": {},
   "outputs": [
    {
     "data": {
      "text/html": [
       "<div>\n",
       "<style scoped>\n",
       "    .dataframe tbody tr th:only-of-type {\n",
       "        vertical-align: middle;\n",
       "    }\n",
       "\n",
       "    .dataframe tbody tr th {\n",
       "        vertical-align: top;\n",
       "    }\n",
       "\n",
       "    .dataframe thead th {\n",
       "        text-align: right;\n",
       "    }\n",
       "</style>\n",
       "<table border=\"1\" class=\"dataframe\">\n",
       "  <thead>\n",
       "    <tr style=\"text-align: right;\">\n",
       "      <th></th>\n",
       "      <th>a</th>\n",
       "      <th>d</th>\n",
       "    </tr>\n",
       "  </thead>\n",
       "  <tbody>\n",
       "    <tr>\n",
       "      <th>0</th>\n",
       "      <td>1</td>\n",
       "      <td>NaN</td>\n",
       "    </tr>\n",
       "    <tr>\n",
       "      <th>1</th>\n",
       "      <td>5</td>\n",
       "      <td>NaN</td>\n",
       "    </tr>\n",
       "    <tr>\n",
       "      <th>2</th>\n",
       "      <td>3</td>\n",
       "      <td>23.0</td>\n",
       "    </tr>\n",
       "  </tbody>\n",
       "</table>\n",
       "</div>"
      ],
      "text/plain": [
       "   a     d\n",
       "0  1   NaN\n",
       "1  5   NaN\n",
       "2  3  23.0"
      ]
     },
     "execution_count": 52,
     "metadata": {},
     "output_type": "execute_result"
    }
   ],
   "source": [
    "df.drop(columns=['b' ,'c'])"
   ]
  },
  {
   "cell_type": "code",
   "execution_count": 53,
   "id": "104ce5b3-c353-492b-832d-e0d210c4f008",
   "metadata": {},
   "outputs": [],
   "source": [
    "#Q.6 mutuable in nature series ,Data Frame, Panel?"
   ]
  },
  {
   "cell_type": "code",
   "execution_count": 54,
   "id": "39d7d6b0-1e56-4eaf-adee-427ae3f822df",
   "metadata": {},
   "outputs": [],
   "source": [
    "# all Pandas data structure are value mutuable (can be changed) and except Series all are size\n",
    "# mutuable."
   ]
  },
  {
   "cell_type": "code",
   "execution_count": 55,
   "id": "fefcc384-8ef6-410b-af09-da7a3a9733ee",
   "metadata": {},
   "outputs": [],
   "source": [
    "# Q.7 Create a Data Frame using multiple Series. Explain and Ex."
   ]
  },
  {
   "cell_type": "code",
   "execution_count": 56,
   "id": "cbaf7d96-1257-4ed2-b69b-067c2b5ecb08",
   "metadata": {},
   "outputs": [],
   "source": [
    "data= {'key1':[1,2,3] ,'key2' : ['Rohit','mantu' ,'pawan'] ,'key3' :[1.2,3.1,3.1]}"
   ]
  },
  {
   "cell_type": "code",
   "execution_count": 57,
   "id": "319d4f04-598a-45c3-90a2-e04149007543",
   "metadata": {},
   "outputs": [
    {
     "data": {
      "text/html": [
       "<div>\n",
       "<style scoped>\n",
       "    .dataframe tbody tr th:only-of-type {\n",
       "        vertical-align: middle;\n",
       "    }\n",
       "\n",
       "    .dataframe tbody tr th {\n",
       "        vertical-align: top;\n",
       "    }\n",
       "\n",
       "    .dataframe thead th {\n",
       "        text-align: right;\n",
       "    }\n",
       "</style>\n",
       "<table border=\"1\" class=\"dataframe\">\n",
       "  <thead>\n",
       "    <tr style=\"text-align: right;\">\n",
       "      <th></th>\n",
       "      <th>key1</th>\n",
       "      <th>key2</th>\n",
       "      <th>key3</th>\n",
       "    </tr>\n",
       "  </thead>\n",
       "  <tbody>\n",
       "    <tr>\n",
       "      <th>0</th>\n",
       "      <td>1</td>\n",
       "      <td>Rohit</td>\n",
       "      <td>1.2</td>\n",
       "    </tr>\n",
       "    <tr>\n",
       "      <th>1</th>\n",
       "      <td>2</td>\n",
       "      <td>mantu</td>\n",
       "      <td>3.1</td>\n",
       "    </tr>\n",
       "    <tr>\n",
       "      <th>2</th>\n",
       "      <td>3</td>\n",
       "      <td>pawan</td>\n",
       "      <td>3.1</td>\n",
       "    </tr>\n",
       "  </tbody>\n",
       "</table>\n",
       "</div>"
      ],
      "text/plain": [
       "   key1   key2  key3\n",
       "0     1  Rohit   1.2\n",
       "1     2  mantu   3.1\n",
       "2     3  pawan   3.1"
      ]
     },
     "execution_count": 57,
     "metadata": {},
     "output_type": "execute_result"
    }
   ],
   "source": [
    "pd.DataFrame(data)"
   ]
  },
  {
   "cell_type": "code",
   "execution_count": null,
   "id": "4c73f416-92fd-4fcd-bd5f-636d9277e007",
   "metadata": {},
   "outputs": [],
   "source": []
  }
 ],
 "metadata": {
  "kernelspec": {
   "display_name": "Python 3 (ipykernel)",
   "language": "python",
   "name": "python3"
  },
  "language_info": {
   "codemirror_mode": {
    "name": "ipython",
    "version": 3
   },
   "file_extension": ".py",
   "mimetype": "text/x-python",
   "name": "python",
   "nbconvert_exporter": "python",
   "pygments_lexer": "ipython3",
   "version": "3.10.8"
  }
 },
 "nbformat": 4,
 "nbformat_minor": 5
}
